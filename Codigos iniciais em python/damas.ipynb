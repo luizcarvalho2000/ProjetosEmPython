{
 "cells": [
  {
   "cell_type": "code",
   "execution_count": 1,
   "id": "3f6f4922",
   "metadata": {},
   "outputs": [
    {
     "name": "stdout",
     "output_type": "stream",
     "text": [
      "- P - P - P - P \n",
      "P - P - P - P - \n",
      "- P - P - P - P \n",
      "- - - - - - - - \n",
      "- - - - - - - - \n",
      "B - B - B - B - \n",
      "- B - B - B - B \n",
      "B - B - B - B - \n",
      "\n",
      "- P - P - P - P \n",
      "P - P - P - P - \n",
      "- - - P - P - P \n",
      "- - P - - - - - \n",
      "- - - - - - - - \n",
      "B - B - B - B - \n",
      "- B - B - B - B \n",
      "B - B - B - B - \n"
     ]
    }
   ],
   "source": [
    "# Jogo de Damas\n",
    "\n",
    "# Cria o tabuleiro vazio\n",
    "tabuleiro = [[None] * 8 for _ in range(8)]\n",
    "\n",
    "# Inicializa as peças pretas\n",
    "for linha in range(3):\n",
    "    for coluna in range(8):\n",
    "        if (linha + coluna) % 2 == 1:\n",
    "            tabuleiro[linha][coluna] = 'P'\n",
    "\n",
    "# Inicializa as peças brancas\n",
    "for linha in range(5, 8):\n",
    "    for coluna in range(8):\n",
    "        if (linha + coluna) % 2 == 1:\n",
    "            tabuleiro[linha][coluna] = 'B'\n",
    "\n",
    "# Função para imprimir o tabuleiro\n",
    "def imprimir_tabuleiro():\n",
    "    for linha in range(8):\n",
    "        for coluna in range(8):\n",
    "            if tabuleiro[linha][coluna] is None:\n",
    "                print('-', end=' ')\n",
    "            else:\n",
    "                print(tabuleiro[linha][coluna], end=' ')\n",
    "        print()\n",
    "\n",
    "# Exemplo de jogada (movendo uma peça)\n",
    "def fazer_jogada(linha_atual, coluna_atual, linha_destino, coluna_destino):\n",
    "    peca = tabuleiro[linha_atual][coluna_atual]\n",
    "    tabuleiro[linha_atual][coluna_atual] = None\n",
    "    tabuleiro[linha_destino][coluna_destino] = peca\n",
    "\n",
    "# Teste do jogo de damas\n",
    "imprimir_tabuleiro()\n",
    "fazer_jogada(2, 1, 3, 2)\n",
    "print()\n",
    "imprimir_tabuleiro()\n"
   ]
  },
  {
   "cell_type": "code",
   "execution_count": null,
   "id": "04777b0c",
   "metadata": {},
   "outputs": [],
   "source": [
    "cxfreezer"
   ]
  }
 ],
 "metadata": {
  "kernelspec": {
   "display_name": "Python 3 (ipykernel)",
   "language": "python",
   "name": "python3"
  },
  "language_info": {
   "codemirror_mode": {
    "name": "ipython",
    "version": 3
   },
   "file_extension": ".py",
   "mimetype": "text/x-python",
   "name": "python",
   "nbconvert_exporter": "python",
   "pygments_lexer": "ipython3",
   "version": "3.9.13"
  }
 },
 "nbformat": 4,
 "nbformat_minor": 5
}
